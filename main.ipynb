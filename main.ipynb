{
 "cells": [
  {
   "attachments": {},
   "cell_type": "markdown",
   "metadata": {},
   "source": [
    "<a href=\"https://colab.research.google.com/github/HectorLob/EUCLID-hyperelasticity/main.ipynb\" target=\"_parent\"><img src=\"https://colab.research.google.com/assets/colab-badge.svg\" alt=\"Open In Colab\"/></a>"
   ]
  },
  {
   "cell_type": "code",
   "execution_count": 1,
   "metadata": {},
   "outputs": [],
   "source": [
    "import sys\n",
    "if 'google.colab' in sys.modules: # if we are in colab, install wandb, clone the repo and cd to lesson1 directory\n",
    "    !git clone https://github.com/HectorLob/EUCLID-hyperelasticity.git\n",
    "    %cd /content/EUCLID-hyperelasticity\n",
    "    !pip install -r /path/to/requirements.txt"
   ]
  },
  {
   "cell_type": "code",
   "execution_count": null,
   "metadata": {},
   "outputs": [],
   "source": [
    "RUN = False # set to True to run the code\n",
    "\n",
    "if RUN:\n",
    "    !python /content/EUCLID-hyperelasticity/main.py"
   ]
  }
 ],
 "metadata": {
  "kernelspec": {
   "display_name": "euclid_hyp",
   "language": "python",
   "name": "python3"
  },
  "language_info": {
   "codemirror_mode": {
    "name": "ipython",
    "version": 3
   },
   "file_extension": ".py",
   "mimetype": "text/x-python",
   "name": "python",
   "nbconvert_exporter": "python",
   "pygments_lexer": "ipython3",
   "version": "3.8.16"
  },
  "orig_nbformat": 4
 },
 "nbformat": 4,
 "nbformat_minor": 2
}
